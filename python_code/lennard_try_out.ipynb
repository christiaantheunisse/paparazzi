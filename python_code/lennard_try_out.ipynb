version https://git-lfs.github.com/spec/v1
oid sha256:5676dec88bb7c993b78557128da9eff3325753eb79d92a33773c453e57dd9d11
size 1272685
