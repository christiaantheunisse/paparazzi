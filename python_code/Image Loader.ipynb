{
 "cells": [
  {
   "cell_type": "markdown",
   "id": "c88afaf9",
   "metadata": {},
   "source": [
    "## Load the images\n",
    "The images are loaded from the `captured_images` directory.\n"
   ]
  },
  {
   "cell_type": "code",
   "execution_count": null,
   "id": "a82b2ec3",
   "metadata": {},
   "outputs": [],
   "source": [
    "import numpy as np\n",
    "import matplotlib.pyplot as plt\n",
    "import matplotlib.animation as animation\n",
    "from IPython.display import HTML\n",
    "import ipywidgets as widgets\n",
    "import PIL\n",
    "import os\n",
    "import glob\n",
    "import cv2\n",
    "\n",
    "plt.rcParams['animation.embed_limit'] = 200 # Set the maximum size of a video to 200 MB\n",
    "\n",
    "%matplotlib inline\n",
    "image_directory = '../captured_images'"
   ]
  },
  {
   "cell_type": "markdown",
   "id": "c149688b",
   "metadata": {},
   "source": [
    "All folders with images in `captured_images`. Choose the folder you want to use and enter the index in the next cell. The descriptions are imported from `description_per_folder.txt`"
   ]
  },
  {
   "cell_type": "code",
   "execution_count": null,
   "id": "6ca25524",
   "metadata": {},
   "outputs": [],
   "source": [
    "image_folders = os.listdir(image_directory)\n",
    "image_folders = [f for f in image_folders if not f.startswith('description')]\n",
    "with open('../captured_images/description_per_folder.txt') as f:\n",
    "    lines = f.readlines()\n",
    "    \n",
    "print(\"List of all the folders inside captured_images with a description from .description_per_folder.txt:\\n\")\n",
    "print(\" Index | Folder\")\n",
    "print(\"-------------------------------\")\n",
    "for idx, image_folder in enumerate(image_folders):\n",
    "    print(f\"   {idx}\" + \" \" * (4 - len(str(idx))) + f\"| {image_folder}\")\n",
    "    image_folder += '\\n'\n",
    "    if image_folder in lines:\n",
    "        index = lines.index(image_folder)\n",
    "        description = lines[index + 1]\n",
    "        print(\"       | \" +description.replace('\\n', '').replace('.', '.\\n       |'))\n"
   ]
  },
  {
   "cell_type": "code",
   "execution_count": null,
   "id": "adfd225d",
   "metadata": {},
   "outputs": [],
   "source": [
    "index_of_the_folder_you_want_to_use = 0"
   ]
  },
  {
   "cell_type": "code",
   "execution_count": null,
   "id": "b551cb56",
   "metadata": {},
   "outputs": [],
   "source": [
    "selected_folder = os.path.join(image_directory, image_folders[index_of_the_folder_you_want_to_use])\n",
    "images = []\n",
    "for filename in sorted(os.listdir(selected_folder)):\n",
    "    file_location = os.path.join(selected_folder, filename)\n",
    "    im = np.asarray(PIL.Image.open(file_location).rotate(90, expand = 1))\n",
    "    images.append(im)\n"
   ]
  },
  {
   "cell_type": "code",
   "execution_count": null,
   "id": "6ff50e86",
   "metadata": {},
   "outputs": [],
   "source": [
    "fig, ax = plt.subplots(3, 3)\n",
    "fig.set_size_inches(12, 6)\n",
    "factor = len(images) // 8\n",
    "indeces = np.array([factor * i for i in range(8)] + [-1]).reshape(3,3)\n",
    "\n",
    "print(\"Some images from the folder...\")\n",
    "for i, row in enumerate(ax):\n",
    "    for j, col in enumerate(row):\n",
    "        col.imshow(images[indeces[i, j]])"
   ]
  },
  {
   "cell_type": "markdown",
   "id": "26029890",
   "metadata": {},
   "source": [
    "#### This function can be used to test your algorithm. It applies the algorithm to every images in the list of images you provide."
   ]
  },
  {
   "cell_type": "code",
   "execution_count": null,
   "id": "f8b0f0ef",
   "metadata": {},
   "outputs": [],
   "source": [
    "def test_algorithm(images, algorithm):\n",
    "    converted_images = []\n",
    "    for image in images:\n",
    "        converted_images.append(algorithm(image))\n",
    "        \n",
    "    return converted_images"
   ]
  },
  {
   "cell_type": "code",
   "execution_count": null,
   "id": "67297bb9",
   "metadata": {},
   "outputs": [],
   "source": [
    "def create_video(images, fps=6):\n",
    "    \"\"\" Really slow for a few hunderd of images \"\"\"\n",
    "    fig, ax = plt.subplots()\n",
    "    anim_ims = []\n",
    "    for image in images:\n",
    "        im = ax.imshow(image, animated=True)\n",
    "        anim_ims.append([im])\n",
    "    ani = animation.ArtistAnimation(fig, anim_ims, interval=int(1000/fps), blit=True,\n",
    "                                    repeat_delay=1000)\n",
    "    plt.close()\n",
    "    return HTML(ani.to_jshtml())"
   ]
  },
  {
   "cell_type": "code",
   "execution_count": null,
   "id": "9cc5caf3",
   "metadata": {},
   "outputs": [],
   "source": [
    "def create_widget_slider(images):\n",
    "    \"\"\" Almost instantaneously produced\"\"\"\n",
    "    @widgets.interact(index=(0, len(images)-1))\n",
    "    def f(index=0):\n",
    "        plt.imshow(images[index])"
   ]
  },
  {
   "cell_type": "markdown",
   "id": "cc1a7826",
   "metadata": {},
   "source": [
    "## Example of a implemented algorithm and how to use the functions\n",
    "\n",
    "`test_algorithm(images: np.ndarray, example_function: Callable[[np.ndarray] np.ndarray]) -> np.ndarray` takes the images array and the algorithm as input and returns the images with the algorithm applied to every images. It is just a simple for loop.\n",
    "\n",
    "`create_video(images: np.ndarray, fps=6)` displays a video of all the images. WARNING: this takes some time to load for a few hunderd images. However, when it is loaded it works.\n",
    "\n",
    "`create_widget_slider(images: np.ndarray)` returns a jupyter widget where the images can be chosen with a slider. Works more or less instantaneously.\n"
   ]
  },
  {
   "cell_type": "code",
   "execution_count": null,
   "id": "6732e1c2",
   "metadata": {},
   "outputs": [],
   "source": [
    "# An example algorithm\n",
    "def example_algorithm(image):\n",
    "    # Inverted RGB\n",
    "    return image[:, :, ::-1]\n",
    "\n",
    "images_rgb_inverted = test_algorithm(images, example_algorithm)"
   ]
  },
  {
   "cell_type": "code",
   "execution_count": null,
   "id": "9f5ea3ef",
   "metadata": {},
   "outputs": [],
   "source": [
    "# Show a video\n",
    "create_video(images_rgb_inverted)"
   ]
  },
  {
   "cell_type": "code",
   "execution_count": null,
   "id": "307e2c7d",
   "metadata": {},
   "outputs": [],
   "source": [
    "# Create a jupyter widget\n",
    "create_widget_slider(images_rgb_inverted)"
   ]
  }
 ],
 "metadata": {
  "kernelspec": {
   "display_name": "Python 3 (ipykernel)",
   "language": "python",
   "name": "python3"
  },
  "language_info": {
   "codemirror_mode": {
    "name": "ipython",
    "version": 3
   },
   "file_extension": ".py",
   "mimetype": "text/x-python",
   "name": "python",
   "nbconvert_exporter": "python",
   "pygments_lexer": "ipython3",
   "version": "3.9.13"
  }
 },
 "nbformat": 4,
 "nbformat_minor": 5
}
